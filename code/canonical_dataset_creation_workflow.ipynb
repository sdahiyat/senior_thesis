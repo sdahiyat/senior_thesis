{
 "cells": [
  {
   "attachments": {},
   "cell_type": "markdown",
   "id": "29323884",
   "metadata": {},
   "source": [
    "\n",
    "# Canonical Transcript Dataset Creation\n",
    "\n",
    "This notebook describes a reproducible workflow for creating a curated dataset of canonical human transcripts. The goal is to produce a BED and FASTA file representing one transcript per gene, without redundancy or paralog contamination.\n",
    "\n",
    "## Workflow\n",
    "\n",
    "1. **Load GENCODE annotation files**\n",
    "   - Use `knownGene.bed` and `knownCanonical.txt` from UCSC\n",
    "   - Filter to retain only canonical transcripts\n",
    "\n",
    "2. **Process transcript structures**\n",
    "   - Join canonical list with BED entries\n",
    "   - Drop extra columns and keep BED6 format\n",
    "   - remove transcripts associated with paralogous genes\n",
    "   - remove non-protein coding genes\n",
    "\n",
    "3. **Generate output files**\n",
    "   - Canonical BED file\n",
    "   - Corresponding FASTA file extracted from genome sequence\n"
   ]
  },
  {
   "cell_type": "code",
   "execution_count": 2,
   "id": "6646aa3b-78e5-4cff-8249-efe8feb06665",
   "metadata": {},
   "outputs": [],
   "source": [
    "import pandas as pd\n",
    "\n",
    "known_gene = pd.read_csv(\"knownGene.txt\", sep=\"\\t\", header=None)\n",
    "known_canonical = pd.read_csv(\"knownCanonical2.txt\", sep=\"\\t\", header=None)\n",
    "\n",
    "canonical_transcripts = set(known_canonical[4])\n",
    "\n",
    "filtered_known_gene = known_gene[known_gene[0].isin(canonical_transcripts)]\n",
    "\n",
    "filtered_known_gene.to_csv(\"filtered_knownGene.txt\", sep=\"\\t\", index=False, header=False)\n"
   ]
  },
  {
   "cell_type": "code",
   "execution_count": 5,
   "id": "b20c6b50-311c-4c6b-b0df-fcda38c45fc4",
   "metadata": {},
   "outputs": [
    {
     "name": "stdout",
     "output_type": "stream",
     "text": [
      "Number of unique transcripts in filtered_knownGene.txt: 64955\n"
     ]
    }
   ],
   "source": [
    "unique_transcripts = filtered_known_gene[0].unique()\n",
    "\n",
    "num_unique_transcripts = len(unique_transcripts)\n",
    "\n",
    "print(\"Number of unique transcripts in filtered_knownGene.txt:\", num_unique_transcripts)"
   ]
  },
  {
   "cell_type": "code",
   "execution_count": 7,
   "id": "793084bb-de7d-460b-9cc0-9cd5c6c4aca4",
   "metadata": {},
   "outputs": [
    {
     "name": "stdout",
     "output_type": "stream",
     "text": [
      "Distinct chromosome names:\n",
      "['chr1' 'chr10' 'chr11' 'chr12' 'chr13' 'chr14' 'chr15' 'chr16' 'chr17'\n",
      " 'chr18' 'chr19' 'chr2' 'chr20' 'chr21' 'chr22' 'chr3' 'chr4' 'chr5'\n",
      " 'chr6' 'chr7' 'chr8' 'chr9' 'chrM' 'chrMT' 'chrX' 'chrY']\n"
     ]
    }
   ],
   "source": [
    "# The chromosome column is the second column (index 1)\n",
    "distinct_chromosomes = filtered_known_gene[1].unique()\n",
    "\n",
    "# Print the list of distinct chromosome names\n",
    "print(\"Distinct chromosome names:\")\n",
    "print(distinct_chromosomes)"
   ]
  },
  {
   "attachments": {},
   "cell_type": "markdown",
   "id": "1a65e7ed-d455-4722-b020-a3c7685842a6",
   "metadata": {},
   "source": [
    "Ignore the above, that was just data exploration. \n",
    "\n",
    "BELOW:Filter the knownGene dataset so that it only includes transcripts present in the knownCanonical2.txt list (the canonical transcripts).\n",
    "Further filter out non-coding RNA types like pseudo, lncRNA, and lincRNA based on the gene type.\n",
    "Exclude rows with irregular chromosomes (e.g., chrM, chrMT)."
   ]
  },
  {
   "attachments": {},
   "cell_type": "markdown",
   "id": "95dbc95f-8149-4578-8c97-e24e75e1be04",
   "metadata": {},
   "source": [
    "Below:\n",
    "Filter the knownGene dataset so that it only includes transcripts present in the knownCanonical\n",
    "- filter out non-coding RNA types like pseudo, lncRNA, and lincRNA etc\n",
    "- Exclude rows with irregular chromosomes (chrM, chrMT).\n",
    "- Number of rows in the final filtered file: 26623\n",
    "- Distinct gene types remaining in the final filtered file: ['protein_coding']"
   ]
  },
  {
   "cell_type": "code",
   "execution_count": 15,
   "id": "8fcf7fb4-d395-4eaa-97d5-063aa25ce42f",
   "metadata": {},
   "outputs": [],
   "source": [
    "reference_genome = pysam.FastaFile(\"hg19.fa\")\n"
   ]
  },
  {
   "cell_type": "code",
   "execution_count": 4,
   "id": "e0eb7b7a-3fbd-4737-a69e-61c925ccef59",
   "metadata": {},
   "outputs": [
    {
     "name": "stdout",
     "output_type": "stream",
     "text": [
      "chr1\t65418\t71585\tENST00000641515.2_5\t0\t+\t65564\t70008\t789624\t3\t15,54,2549,\t0,101,3618,\n",
      " chr1\t134900\t139379\tENST00000423372.3\t0\t-\t138529\t139309\t789624\t2\t902,1759,\t0,2720,\n",
      " chr1\t367639\t368634\tENST00000426406.1\t0\t+\t367658\t368597\t789624\t1\t995,\t0,\n",
      " chr1\t621095\t622034\tENST00000332831.5_7\t0\t-\t621095\t622034\t789624\t1\t939,\t0,\n",
      " chr1\t859302\t879954\tENST00000616016.5_6\t0\t+\t859811\t879533\t789624\t14\t1026,92,182,51,125,90,138,163,116,79,500,125,111,667,\t0,1999,6232,7116,11849,15117,15352,17221,18213,18487,18636,19330,19775,19985,\n",
      " chr1\t879582\t894636\tENST00000327044.7_6\t0\t-\t880073\t894620\t789624\t19\t598,90,136,114,144,102,114,112,140,189,114,111,79,91,121,132,175,153,42,\t0,854,1315,1970,2199,3928,4287,6924,7797,8209,8972,9579,9801,11720,11892,12691,12896,14726,15012,\n",
      " chr1\t895963\t901099\tENST00000338591.8_3\t0\t+\t896073\t900571\t789624\t12\t217,260,122,222,117,214,145,168,89,74,182,757,\t0,709,1045,1242,1771,2120,2525,2753,3336,3523,3765,4379,\n",
      " chr1\t901861\t911245\tENST00000379410.8_9\t0\t+\t901911\t909955\t789624\t16\t133,100,147,81,73,128,96,81,76,137,150,141,141,219,49,1424,\t0,222,3795,4039,4204,4397,4631,4842,5593,5806,6379,6704,7018,7351,7834,7960,\n",
      " chr1\t910577\t917473\tENST00000433179.4_10\t0\t-\t911551\t916409\t789624\t4\t1072,126,2293,29,\t0,1301,3683,6867,\n",
      " chr1\t934343\t935477\tENST00000304952.11_11\t0\t-\t934438\t935353\t789624\t4\t469,88,96,232,\t0,562,728,902,\n",
      " None\n"
     ]
    }
   ],
   "source": [
    "print(bed_file.head())"
   ]
  },
  {
   "cell_type": "code",
   "execution_count": 5,
   "id": "9fd370b9-ce93-46dd-aa7a-52ede1f65113",
   "metadata": {},
   "outputs": [
    {
     "name": "stdout",
     "output_type": "stream",
     "text": [
      "Exon and intron sequence extraction complete.\n"
     ]
    }
   ],
   "source": [
    "# Helper function to get the reverse complement of a sequence\n",
    "def reverse_complement(sequence):\n",
    "    complement = str.maketrans(\"ATCGatcg\", \"TAGCtagc\")\n",
    "    return sequence.translate(complement)[::-1]\n",
    "\n",
    "exon_sequences = []\n",
    "intron_sequences = []\n",
    "\n",
    "# Process each BED record\n",
    "for bed_record in bed_file:\n",
    "    chrom = bed_record.chrom\n",
    "    strand = bed_record.strand\n",
    "    chrom_start = int(bed_record.start)  # Transcription start\n",
    "    chrom_end = int(bed_record.end)  # Transcription end\n",
    "    exon_lengths = list(map(int, bed_record.fields[10].strip(',').split(',')))  # Exon lengths\n",
    "    exon_offsets = list(map(int, bed_record.fields[11].strip(',').split(',')))  # Exon start offsets\n",
    "\n",
    "    # Calculate absolute exon starts and ends\n",
    "    exon_starts = [chrom_start + offset for offset in exon_offsets]\n",
    "    exon_ends = [start + length for start, length in zip(exon_starts, exon_lengths)]\n",
    "\n",
    "    previous_end = chrom_start\n",
    "\n",
    "    for exon_start, exon_end in zip(exon_starts, exon_ends):\n",
    "        # Get the exon sequence\n",
    "        exon_seq = reference_genome.fetch(chrom, exon_start, exon_end)\n",
    "        if strand == '-':\n",
    "            exon_seq = reverse_complement(exon_seq)\n",
    "        exon_sequences.append({\"transcript_id\": bed_record.name, \"sequence\": exon_seq})\n",
    "\n",
    "        if previous_end < exon_start:\n",
    "            intron_seq = reference_genome.fetch(chrom, previous_end, exon_start)\n",
    "            if strand == '-':\n",
    "                intron_seq = reverse_complement(intron_seq)\n",
    "            intron_sequences.append({\"transcript_id\": bed_record.name, \"sequence\": intron_seq})\n",
    "\n",
    "        previous_end = exon_end\n",
    "\n",
    "    if previous_end < chrom_end:\n",
    "        intron_seq = reference_genome.fetch(chrom, previous_end, chrom_end)\n",
    "        if strand == '-':\n",
    "            intron_seq = reverse_complement(intron_seq)\n",
    "        intron_sequences.append({\"transcript_id\": bed_record.name, \"sequence\": intron_seq})\n",
    "\n",
    "df_exons = pd.DataFrame(exon_sequences)\n",
    "df_exons.to_csv(\"extracted_exon_sequences.txt\", sep=\"\\t\", index=False)\n",
    "\n",
    "df_introns = pd.DataFrame(intron_sequences)\n",
    "df_introns.to_csv(\"extracted_intron_sequences.txt\", sep=\"\\t\", index=False)\n",
    "\n",
    "print(\"Exon and intron sequence extraction complete.\")\n"
   ]
  },
  {
   "cell_type": "code",
   "execution_count": 17,
   "id": "8fe91477-0665-4ca5-98b6-722fcb9a629e",
   "metadata": {},
   "outputs": [],
   "source": [
    "def calculate_intron_frequencies(intron_sequences):\n",
    "    counts = Counter(''.join(intron_sequences))\n",
    "    total = sum(counts.values())\n",
    "    frequencies = {\n",
    "        'A': counts.get('A', 0) / total,\n",
    "        'T': counts.get('T', 0) / total,\n",
    "        'C': counts.get('C', 0) / total,\n",
    "        'G': counts.get('G', 0) / total\n",
    "    }\n",
    "    return frequencies\n",
    "\n",
    "def generate_random_sequence(length, frequencies):\n",
    "    nucleotides = ['A', 'T', 'C', 'G']\n",
    "    probs = [frequencies[nuc] for nuc in nucleotides]\n",
    "    return ''.join(random.choices(nucleotides, probs, k=length))"
   ]
  },
  {
   "cell_type": "code",
   "execution_count": 18,
   "id": "450bd3d2-fd7b-4ca0-860d-e72f99a813ad",
   "metadata": {},
   "outputs": [],
   "source": [
    "# Helper function to get the reverse complement of a sequence\n",
    "def reverse_complement(sequence):\n",
    "    complement = str.maketrans(\"ATCGatcg\", \"TAGCtagc\")\n",
    "    return sequence.translate(complement)[::-1]\n",
    "\n",
    "# Extract intron sequences and calculate overall intron nucleotide frequencies\n",
    "intron_sequences = []\n",
    "\n",
    "for bed_record in bed_file:\n",
    "    chrom = bed_record.chrom\n",
    "    strand = bed_record.strand\n",
    "    chrom_start = int(bed_record.start)\n",
    "    chrom_end = int(bed_record.end)\n",
    "    exon_starts = list(map(int, bed_record.fields[10].strip(',').split(',')))\n",
    "    exon_ends = list(map(int, bed_record.fields[11].strip(',').split(',')))\n",
    "\n",
    "    previous_end = chrom_start\n",
    "    for start_offset, end_offset in zip(exon_starts, exon_ends):\n",
    "        exon_start = chrom_start + start_offset\n",
    "        exon_end = chrom_start + end_offset\n",
    "\n",
    "        # Get intron sequence before the current exon\n",
    "        if previous_end < exon_start:\n",
    "            intron_seq = reference_genome.fetch(chrom, previous_end, exon_start)\n",
    "            if strand == '-':\n",
    "                intron_seq = reverse_complement(intron_seq)\n",
    "            intron_sequences.append(intron_seq)\n",
    "\n",
    "        previous_end = exon_end\n",
    "\n",
    "    # Add the last intron sequence if it exists\n",
    "    if previous_end < chrom_end:\n",
    "        intron_seq = reference_genome.fetch(chrom, previous_end, chrom_end)\n",
    "        if strand == '-':\n",
    "            intron_seq = reverse_complement(intron_seq)\n",
    "        intron_sequences.append(intron_seq)\n"
   ]
  },
  {
   "cell_type": "code",
   "execution_count": 20,
   "id": "03ec8105-acf7-4b97-968f-376c2ced0290",
   "metadata": {},
   "outputs": [
    {
     "name": "stdout",
     "output_type": "stream",
     "text": [
      "Canonical dataset preparation complete. Saved to 'canonical_dataset_spliceai.fasta'.\n"
     ]
    }
   ],
   "source": [
    "# Function to process each transcript\n",
    "def process_transcript(transcript_id, full_sequence, bed_record):\n",
    "    chrom = bed_record.chrom\n",
    "    strand = bed_record.strand\n",
    "    chrom_start = int(bed_record.start)\n",
    "    exon_starts = list(map(int, bed_record.fields[10].strip(',').split(',')))\n",
    "    exon_ends = list(map(int, bed_record.fields[11].strip(',').split(',')))\n",
    "\n",
    "    processed_sequence = []\n",
    "    previous_end = 0\n",
    "\n",
    "    for start_offset, end_offset in zip(exon_starts, exon_ends):\n",
    "        exon_start = chrom_start + start_offset\n",
    "        exon_end = chrom_start + end_offset\n",
    "\n",
    "        # Add the intron sequence before the exon\n",
    "        if previous_end < start_offset:\n",
    "            intron_seq = full_sequence[previous_end:start_offset]\n",
    "            processed_sequence.append(intron_seq)\n",
    "\n",
    "        exon_length = exon_end - exon_start\n",
    "        random_exon = generate_random_sequence(exon_length, intron_frequencies)\n",
    "        processed_sequence.append(random_exon)\n",
    "\n",
    "        previous_end = end_offset\n",
    "\n",
    "    if previous_end < len(full_sequence):\n",
    "        processed_sequence.append(full_sequence[previous_end:])\n",
    "\n",
    "    final_sequence = ''.join(processed_sequence)\n",
    "    padded_sequence = f\"{padding_sequence}{final_sequence}{padding_sequence}\"\n",
    "\n",
    "    fasta_header = f\">{transcript_id}|{chrom}|{strand}|{chrom_start}|{previous_end}\"\n",
    "    return fasta_header, padded_sequence\n",
    "\n",
    "with open(\"canonical_dataset_spliceai.fasta\", \"w\") as output_file:\n",
    "    for idx, row in df_sequences.iterrows():\n",
    "        transcript_id = row[\"transcript_id\"]\n",
    "        full_sequence = row[\"sequence\"]\n",
    "        bed_record = bed_file[idx]\n",
    "        header, padded_sequence = process_transcript(transcript_id, full_sequence, bed_record)\n",
    "        output_file.write(f\"{header}\\n{padded_sequence}\\n\")\n",
    "\n",
    "print(\"Canonical dataset preparation complete. Saved to 'canonical_dataset_spliceai.fasta'.\")\n"
   ]
  },
  {
   "attachments": {},
   "cell_type": "markdown",
   "id": "3ed0136e-5104-4449-8c76-57c9bdffcee9",
   "metadata": {},
   "source": [
    "\n",
    "example row:\n",
    ">chr1:65418-71585(+)|chr1|+|65418|3618\n",
    "chr1:65418-71585(+):\n",
    "\n",
    "The transcript is located on chromosome chr1.\n",
    "The genomic range spans from 65418 to 71585.\n",
    "The transcript is on the + strand (forward strand).\n",
    "|chr1|:\n",
    "\n",
    "Confirms the chromosome (chr1).\n",
    "+:\n",
    "\n",
    "Strand orientation is positive (+).\n",
    "65418:\n",
    "\n",
    "Start position of the transcript on the chromosome.\n",
    "3618:\n",
    "\n",
    "End position of the last exon, relative to the transcript start (chromStart). This value might indicate the last position of the exon offset or an internal boundary within the transcript."
   ]
  },
  {
   "cell_type": "code",
   "execution_count": 4,
   "id": "74f14523-6a2a-4037-82fb-4a6395d21569",
   "metadata": {},
   "outputs": [
    {
     "name": "stdout",
     "output_type": "stream",
     "text": [
      "Canonical sequence file with flanked 'N's created at /mnt/lareaulab/sdahiyat/illumina/canonical_sequence_with_flanked_Ns.txt\n"
     ]
    }
   ],
   "source": [
    "#how to make canonical sequences file\n",
    "\n",
    "\n",
    "import pysam\n",
    "import pandas as pd\n",
    "\n",
    "# Paths\n",
    "reference_genome_path = \"/mnt/lareaulab/sdahiyat/hg19.fa\"  # Reference genome\n",
    "canonical_dataset_path = \"/mnt/lareaulab/sdahiyat/illumina/canonical_dataset_created.txt\"\n",
    "output_file_path = \"/mnt/lareaulab/sdahiyat/illumina/canonical_sequence_with_flanked_Ns.txt\"\n",
    "\n",
    "reference_genome = pysam.FastaFile(reference_genome_path)\n",
    "\n",
    "canonical_df = pd.read_csv(\n",
    "    canonical_dataset_path,\n",
    "    sep=\"\\t\",\n",
    "\n",
    "    header=None,\n",
    "    names=[\"geneName\", \"chrom\", \"strand\", \"chromStart\", \"chromEnd\", \"exonEnds\", \"exonStarts\"]\n",
    ")\n",
    "\n",
    "# Create the canonical sequence file with flanked 'N's\n",
    "with open(output_file_path, \"w\") as output_file:\n",
    "    for _, row in canonical_df.iterrows():\n",
    "        chrom = row[\"chrom\"]\n",
    "        chrom_start = row[\"chromStart\"]\n",
    "        chrom_end = row[\"chromEnd\"]\n",
    "        strand = row[\"strand\"]\n",
    "\n",
    "        adjusted_start = max(0, chrom_start-5001)  #  or chrom_start-5001\n",
    "        adjusted_end = chrom_end +5000 #or add 5000\n",
    "\n",
    "        core_sequence = reference_genome.fetch(chrom, chrom_start-1, chrom_end)  # Use adjusted coordinates\n",
    "        # if strand == \"-\":  # Reverse complement for negative strand\n",
    "        #      core_sequence = core_sequence.translate(str.maketrans(\"ATCG\", \"TAGC\"))[::-1]\n",
    "\n",
    "        padded_sequence = f\"{'N' * 5000}{core_sequence}{'N' * 5000}\"\n",
    "\n",
    "        output_file.write(f\"{chrom}:{adjusted_start}-{adjusted_end}\\t{padded_sequence}\\n\")\n",
    "\n",
    "print(f\"Canonical sequence file with flanked 'N's created at {output_file_path}\")\n"
   ]
  },
  {
   "cell_type": "code",
   "execution_count": 14,
   "id": "f57fada1-5a05-4fc4-aa57-893b64d69847",
   "metadata": {
    "scrolled": true
   },
   "outputs": [
    {
     "data": {
      "text/html": [
       "<div>\n",
       "<style scoped>\n",
       "    .dataframe tbody tr th:only-of-type {\n",
       "        vertical-align: middle;\n",
       "    }\n",
       "\n",
       "    .dataframe tbody tr th {\n",
       "        vertical-align: top;\n",
       "    }\n",
       "\n",
       "    .dataframe thead th {\n",
       "        text-align: right;\n",
       "    }\n",
       "</style>\n",
       "<table border=\"1\" class=\"dataframe\">\n",
       "  <thead>\n",
       "    <tr style=\"text-align: right;\">\n",
       "      <th></th>\n",
       "      <th>0</th>\n",
       "      <th>1</th>\n",
       "      <th>2</th>\n",
       "      <th>3</th>\n",
       "      <th>4</th>\n",
       "      <th>5</th>\n",
       "      <th>6</th>\n",
       "      <th>7</th>\n",
       "      <th>8</th>\n",
       "      <th>9</th>\n",
       "      <th>...</th>\n",
       "      <th>17</th>\n",
       "      <th>18</th>\n",
       "      <th>19</th>\n",
       "      <th>20</th>\n",
       "      <th>21</th>\n",
       "      <th>22</th>\n",
       "      <th>23</th>\n",
       "      <th>24</th>\n",
       "      <th>25</th>\n",
       "      <th>26</th>\n",
       "    </tr>\n",
       "  </thead>\n",
       "  <tbody>\n",
       "    <tr>\n",
       "      <th>0</th>\n",
       "      <td>chr1</td>\n",
       "      <td>65418</td>\n",
       "      <td>71585</td>\n",
       "      <td>ENST00000641515.2_5</td>\n",
       "      <td>0</td>\n",
       "      <td>+</td>\n",
       "      <td>65564</td>\n",
       "      <td>70008</td>\n",
       "      <td>789624</td>\n",
       "      <td>3</td>\n",
       "      <td>...</td>\n",
       "      <td>OR4F5</td>\n",
       "      <td>A0A2U3U0J3</td>\n",
       "      <td>protein_coding</td>\n",
       "      <td>coding</td>\n",
       "      <td>havana_homo_sapiens</td>\n",
       "      <td>protein_coding</td>\n",
       "      <td>CCDS,Ensembl_canonical,MANE_Select,RNA_Seq_sup...</td>\n",
       "      <td>2</td>\n",
       "      <td>canonical,basic,all</td>\n",
       "      <td>0</td>\n",
       "    </tr>\n",
       "  </tbody>\n",
       "</table>\n",
       "<p>1 rows × 27 columns</p>\n",
       "</div>"
      ],
      "text/plain": [
       "     0      1      2                    3   4  5      6      7       8   9   \\\n",
       "0  chr1  65418  71585  ENST00000641515.2_5   0  +  65564  70008  789624   3   \n",
       "\n",
       "   ...     17          18              19      20                   21  \\\n",
       "0  ...  OR4F5  A0A2U3U0J3  protein_coding  coding  havana_homo_sapiens   \n",
       "\n",
       "               22                                                 23 24  \\\n",
       "0  protein_coding  CCDS,Ensembl_canonical,MANE_Select,RNA_Seq_sup...  2   \n",
       "\n",
       "                    25 26  \n",
       "0  canonical,basic,all  0  \n",
       "\n",
       "[1 rows x 27 columns]"
      ]
     },
     "execution_count": 14,
     "metadata": {},
     "output_type": "execute_result"
    }
   ],
   "source": [
    "filtered_known_gene[filtered_known_gene.iloc[:, 18] == \"A0A2U3U0J3\"]\n"
   ]
  }
 ],
 "metadata": {
  "kernelspec": {
   "display_name": "Python (september)",
   "language": "python",
   "name": "september"
  },
  "language_info": {
   "codemirror_mode": {
    "name": "ipython",
    "version": 3
   },
   "file_extension": ".py",
   "mimetype": "text/x-python",
   "name": "python",
   "nbconvert_exporter": "python",
   "pygments_lexer": "ipython3",
   "version": "3.9.19"
  }
 },
 "nbformat": 4,
 "nbformat_minor": 5
}
